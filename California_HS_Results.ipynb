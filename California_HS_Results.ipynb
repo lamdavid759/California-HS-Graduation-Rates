{
 "cells": [
  {
   "cell_type": "code",
   "execution_count": 1,
   "id": "004750ad-2eaa-4bab-a251-98ca09c51a26",
   "metadata": {
    "tags": []
   },
   "outputs": [],
   "source": [
    "import CaliforniaHS"
   ]
  },
  {
   "cell_type": "code",
   "execution_count": 2,
   "id": "ea196138-38f6-4451-9004-ede240eb19b3",
   "metadata": {},
   "outputs": [
    {
     "data": {
      "text/plain": [
       "<module 'CaliforniaHS' from 'C:\\\\Users\\\\sages\\\\Dropbox\\\\Data Projects\\\\California High School Graduation Rates\\\\CaliforniaHS.py'>"
      ]
     },
     "execution_count": 2,
     "metadata": {},
     "output_type": "execute_result"
    }
   ],
   "source": [
    "import importlib as imp\n",
    "imp.reload(CaliforniaHS)"
   ]
  },
  {
   "cell_type": "code",
   "execution_count": 4,
   "id": "9bb90850-89d6-4788-a20a-a70a4b1dc81b",
   "metadata": {},
   "outputs": [],
   "source": [
    "chart = CaliforniaHS.plot_schools(\"College\")\n",
    "chart.save('College_Prep_Predictions.html')"
   ]
  },
  {
   "cell_type": "code",
   "execution_count": 5,
   "id": "f92af46e-bf19-4502-a12c-dcf236c24ba5",
   "metadata": {},
   "outputs": [],
   "source": [
    "chart2 = CaliforniaHS.plot_schools_similar(\"Montebello High\", num_neighbors=15, metric = \"College\", filters={\"County\": \"Los Angeles\"})\n",
    "chart2.save('Montebello_High_NN.html')"
   ]
  },
  {
   "cell_type": "code",
   "execution_count": null,
   "id": "0536474e-145d-47fb-b6b5-939a15a2f852",
   "metadata": {},
   "outputs": [],
   "source": [
    "CaliforniaHS.find_similars(\"Montebello High\", num_neighbors=15, info=\"stats\", filters={\"County\": \"Los Angeles\"})"
   ]
  },
  {
   "cell_type": "code",
   "execution_count": null,
   "id": "71d74fae-d245-4af0-8b01-ccc9cb4182b8",
   "metadata": {},
   "outputs": [],
   "source": []
  }
 ],
 "metadata": {
  "kernelspec": {
   "display_name": "Python 3 (ipykernel)",
   "language": "python",
   "name": "python3"
  },
  "language_info": {
   "codemirror_mode": {
    "name": "ipython",
    "version": 3
   },
   "file_extension": ".py",
   "mimetype": "text/x-python",
   "name": "python",
   "nbconvert_exporter": "python",
   "pygments_lexer": "ipython3",
   "version": "3.9.7"
  }
 },
 "nbformat": 4,
 "nbformat_minor": 5
}
